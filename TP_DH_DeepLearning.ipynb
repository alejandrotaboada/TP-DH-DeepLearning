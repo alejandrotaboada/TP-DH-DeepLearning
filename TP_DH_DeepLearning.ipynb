{
  "nbformat": 4,
  "nbformat_minor": 0,
  "metadata": {
    "colab": {
      "name": "TP-DH-DeepLearning.ipynb",
      "version": "0.3.2",
      "provenance": [],
      "collapsed_sections": []
    },
    "language_info": {
      "codemirror_mode": {
        "name": "ipython",
        "version": 3
      },
      "file_extension": ".py",
      "mimetype": "text/x-python",
      "name": "python",
      "nbconvert_exporter": "python",
      "pygments_lexer": "ipython3",
      "version": "3.6.3"
    },
    "kernelspec": {
      "display_name": "Python 3",
      "language": "python",
      "name": "python3"
    },
    "accelerator": "GPU"
  },
  "cells": [
    {
      "cell_type": "code",
      "metadata": {
        "id": "JXZUvlCesWAX",
        "colab_type": "code",
        "colab": {}
      },
      "source": [
        "from keras import models\n",
        "from keras import layers\n",
        "from keras import optimizers"
      ],
      "execution_count": 0,
      "outputs": []
    },
    {
      "cell_type": "code",
      "metadata": {
        "id": "u5me-iEXso8x",
        "colab_type": "code",
        "colab": {
          "base_uri": "https://localhost:8080/",
          "height": 34
        },
        "outputId": "8fff6f0f-beee-45ca-b5ea-ad55945916cf"
      },
      "source": [
        "!git clone https://github.com/alejandrotaboada/TP-DH-DeepLearning.git"
      ],
      "execution_count": 47,
      "outputs": [
        {
          "output_type": "stream",
          "text": [
            "fatal: destination path 'TP-DH-DeepLearning' already exists and is not an empty directory.\n"
          ],
          "name": "stdout"
        }
      ]
    },
    {
      "cell_type": "code",
      "metadata": {
        "id": "DNxDMf3nsWAc",
        "colab_type": "code",
        "colab": {
          "base_uri": "https://localhost:8080/",
          "height": 34
        },
        "outputId": "9f04ca59-e231-4371-c8af-129a43fca449"
      },
      "source": [
        "cd TP-DH-DeepLearning/\n",
        "!unzip dataset.zip"
      ],
      "execution_count": 4,
      "outputs": [
        {
          "output_type": "stream",
          "text": [
            "/content/TP-DH-DeepLearning\n"
          ],
          "name": "stdout"
        }
      ]
    },
    {
      "cell_type": "code",
      "metadata": {
        "colab_type": "code",
        "id": "CETHHY3YVb1w",
        "outputId": "1dc530b2-edf0-4666-bc51-8874457911f7",
        "scrolled": false,
        "colab": {
          "base_uri": "https://localhost:8080/",
          "height": 34
        }
      },
      "source": [
        "import numpy as np\n",
        "import keras\n",
        "keras.__version__"
      ],
      "execution_count": 32,
      "outputs": [
        {
          "output_type": "execute_result",
          "data": {
            "text/plain": [
              "'2.2.4'"
            ]
          },
          "metadata": {
            "tags": []
          },
          "execution_count": 32
        }
      ]
    },
    {
      "cell_type": "code",
      "metadata": {
        "id": "p4Mz5dJ5xt1Y",
        "colab_type": "code",
        "colab": {}
      },
      "source": [
        "from keras.applications import VGG16\n",
        "\n",
        "conv_base = VGG16(weights='imagenet',\n",
        "                  include_top=False,\n",
        "                  input_shape=(150, 150, 3))"
      ],
      "execution_count": 0,
      "outputs": []
    },
    {
      "cell_type": "code",
      "metadata": {
        "id": "0OAFaFKex0QD",
        "colab_type": "code",
        "colab": {
          "base_uri": "https://localhost:8080/",
          "height": 782
        },
        "outputId": "6ec29ea6-f6f2-484b-ead4-be9edd3f38cb"
      },
      "source": [
        "conv_base.summary()"
      ],
      "execution_count": 34,
      "outputs": [
        {
          "output_type": "stream",
          "text": [
            "_________________________________________________________________\n",
            "Layer (type)                 Output Shape              Param #   \n",
            "=================================================================\n",
            "input_2 (InputLayer)         (None, 150, 150, 3)       0         \n",
            "_________________________________________________________________\n",
            "block1_conv1 (Conv2D)        (None, 150, 150, 64)      1792      \n",
            "_________________________________________________________________\n",
            "block1_conv2 (Conv2D)        (None, 150, 150, 64)      36928     \n",
            "_________________________________________________________________\n",
            "block1_pool (MaxPooling2D)   (None, 75, 75, 64)        0         \n",
            "_________________________________________________________________\n",
            "block2_conv1 (Conv2D)        (None, 75, 75, 128)       73856     \n",
            "_________________________________________________________________\n",
            "block2_conv2 (Conv2D)        (None, 75, 75, 128)       147584    \n",
            "_________________________________________________________________\n",
            "block2_pool (MaxPooling2D)   (None, 37, 37, 128)       0         \n",
            "_________________________________________________________________\n",
            "block3_conv1 (Conv2D)        (None, 37, 37, 256)       295168    \n",
            "_________________________________________________________________\n",
            "block3_conv2 (Conv2D)        (None, 37, 37, 256)       590080    \n",
            "_________________________________________________________________\n",
            "block3_conv3 (Conv2D)        (None, 37, 37, 256)       590080    \n",
            "_________________________________________________________________\n",
            "block3_pool (MaxPooling2D)   (None, 18, 18, 256)       0         \n",
            "_________________________________________________________________\n",
            "block4_conv1 (Conv2D)        (None, 18, 18, 512)       1180160   \n",
            "_________________________________________________________________\n",
            "block4_conv2 (Conv2D)        (None, 18, 18, 512)       2359808   \n",
            "_________________________________________________________________\n",
            "block4_conv3 (Conv2D)        (None, 18, 18, 512)       2359808   \n",
            "_________________________________________________________________\n",
            "block4_pool (MaxPooling2D)   (None, 9, 9, 512)         0         \n",
            "_________________________________________________________________\n",
            "block5_conv1 (Conv2D)        (None, 9, 9, 512)         2359808   \n",
            "_________________________________________________________________\n",
            "block5_conv2 (Conv2D)        (None, 9, 9, 512)         2359808   \n",
            "_________________________________________________________________\n",
            "block5_conv3 (Conv2D)        (None, 9, 9, 512)         2359808   \n",
            "_________________________________________________________________\n",
            "block5_pool (MaxPooling2D)   (None, 4, 4, 512)         0         \n",
            "=================================================================\n",
            "Total params: 14,714,688\n",
            "Trainable params: 14,714,688\n",
            "Non-trainable params: 0\n",
            "_________________________________________________________________\n"
          ],
          "name": "stdout"
        }
      ]
    },
    {
      "cell_type": "code",
      "metadata": {
        "id": "rsIlQG16xuRZ",
        "colab_type": "code",
        "colab": {}
      },
      "source": [
        "import os\n",
        "import numpy as np\n",
        "from keras.preprocessing.image import ImageDataGenerator\n",
        "\n",
        "base_dir = os.getcwd()\n",
        "\n",
        "train_dir = os.path.join(base_dir, 'train')\n",
        "validation_dir = os.path.join(base_dir, 'validation')\n",
        "test_dir = os.path.join(base_dir, 'test')\n"
      ],
      "execution_count": 0,
      "outputs": []
    },
    {
      "cell_type": "code",
      "metadata": {
        "colab_type": "code",
        "id": "M7GqJEHOVb2Q",
        "colab": {}
      },
      "source": [
        "from keras import models\n",
        "from keras import layers\n",
        "\n",
        "model = models.Sequential()\n",
        "model.add(conv_base)\n",
        "model.add(layers.Flatten())\n",
        "model.add(layers.Dense(256, activation='relu'))\n",
        "model.add(layers.Dense(1, activation='softmax'))"
      ],
      "execution_count": 0,
      "outputs": []
    },
    {
      "cell_type": "markdown",
      "metadata": {
        "colab_type": "text",
        "id": "jKcZpXv3Vb2S"
      },
      "source": [
        "Esto es lo que obtenemos:"
      ]
    },
    {
      "cell_type": "code",
      "metadata": {
        "colab_type": "code",
        "id": "nTNuKOzCVb2T",
        "outputId": "184b7680-2afe-4e99-9ae2-8548acff76fd",
        "colab": {
          "base_uri": "https://localhost:8080/",
          "height": 272
        }
      },
      "source": [
        "model.summary()"
      ],
      "execution_count": 37,
      "outputs": [
        {
          "output_type": "stream",
          "text": [
            "_________________________________________________________________\n",
            "Layer (type)                 Output Shape              Param #   \n",
            "=================================================================\n",
            "vgg16 (Model)                (None, 4, 4, 512)         14714688  \n",
            "_________________________________________________________________\n",
            "flatten_2 (Flatten)          (None, 8192)              0         \n",
            "_________________________________________________________________\n",
            "dense_3 (Dense)              (None, 256)               2097408   \n",
            "_________________________________________________________________\n",
            "dense_4 (Dense)              (None, 1)                 257       \n",
            "=================================================================\n",
            "Total params: 16,812,353\n",
            "Trainable params: 16,812,353\n",
            "Non-trainable params: 0\n",
            "_________________________________________________________________\n"
          ],
          "name": "stdout"
        }
      ]
    },
    {
      "cell_type": "markdown",
      "metadata": {
        "colab_type": "text",
        "id": "HYdNJ741Vb2X"
      },
      "source": [
        "Vemos que la base convolucional de VGG16 tiene 14,714,688 parametros y el clasificador que estamos agregando tiene 2 millones mas.\n",
        "\n",
        "Antes de compilar y entrenar el modelo es importante \"Congelar\" los pesos de la base convolucional para evitar que se actualicen durante el entrenamiento.\n",
        "\n",
        "En Keras, para congelar una red se configura el atributo `trainable` en `False`:"
      ]
    },
    {
      "cell_type": "code",
      "metadata": {
        "colab_type": "code",
        "id": "VhBptWPNVb2Y",
        "outputId": "02132492-eb26-4d63-b160-bf17502fedb9",
        "colab": {
          "base_uri": "https://localhost:8080/",
          "height": 34
        }
      },
      "source": [
        "print('Este es el número de tensores de pesos entrenables antes de freezar la base convolucional:', len(model.trainable_weights))"
      ],
      "execution_count": 38,
      "outputs": [
        {
          "output_type": "stream",
          "text": [
            "Este es el número de tensores de pesos entrenables antes de freezar la base convolucional: 30\n"
          ],
          "name": "stdout"
        }
      ]
    },
    {
      "cell_type": "code",
      "metadata": {
        "colab_type": "code",
        "id": "gSeIQLGJVb2c",
        "colab": {}
      },
      "source": [
        "conv_base.trainable = False"
      ],
      "execution_count": 0,
      "outputs": []
    },
    {
      "cell_type": "code",
      "metadata": {
        "colab_type": "code",
        "id": "Aqk5N97sVb2f",
        "outputId": "bb1da6b7-3213-4905-f45f-c5bcb5e2fdbe",
        "colab": {
          "base_uri": "https://localhost:8080/",
          "height": 34
        }
      },
      "source": [
        "print('Este es el número de tensores de pesos entrenables después de freezar la base convolucional:', len(model.trainable_weights))"
      ],
      "execution_count": 40,
      "outputs": [
        {
          "output_type": "stream",
          "text": [
            "Este es el número de tensores de pesos entrenables después de freezar la base convolucional: 4\n"
          ],
          "name": "stdout"
        }
      ]
    },
    {
      "cell_type": "code",
      "metadata": {
        "colab_type": "code",
        "id": "Hq1iI3xvOsxm",
        "outputId": "ece1c087-679d-43bc-c894-e8806b9aff06",
        "colab": {
          "base_uri": "https://localhost:8080/",
          "height": 272
        }
      },
      "source": [
        "model.summary()"
      ],
      "execution_count": 41,
      "outputs": [
        {
          "output_type": "stream",
          "text": [
            "_________________________________________________________________\n",
            "Layer (type)                 Output Shape              Param #   \n",
            "=================================================================\n",
            "vgg16 (Model)                (None, 4, 4, 512)         14714688  \n",
            "_________________________________________________________________\n",
            "flatten_2 (Flatten)          (None, 8192)              0         \n",
            "_________________________________________________________________\n",
            "dense_3 (Dense)              (None, 256)               2097408   \n",
            "_________________________________________________________________\n",
            "dense_4 (Dense)              (None, 1)                 257       \n",
            "=================================================================\n",
            "Total params: 16,812,353\n",
            "Trainable params: 2,097,665\n",
            "Non-trainable params: 14,714,688\n",
            "_________________________________________________________________\n"
          ],
          "name": "stdout"
        }
      ]
    },
    {
      "cell_type": "markdown",
      "metadata": {
        "colab_type": "text",
        "id": "z2BLP33mVb2k"
      },
      "source": [
        "Ahora podemos comenzar a entrenar nuestro modelo, con la misma configuración de data augmentation que utilizamos en nuestro ejemplo anterior:"
      ]
    },
    {
      "cell_type": "code",
      "metadata": {
        "colab_type": "code",
        "id": "baOPPnZcVb2k",
        "outputId": "bca2cc0e-0041-4c68-feac-e67d628c75cc",
        "colab": {
          "base_uri": "https://localhost:8080/",
          "height": 731
        }
      },
      "source": [
        "from keras.preprocessing.image import ImageDataGenerator\n",
        "\n",
        "train_datagen = ImageDataGenerator(\n",
        "      rescale=1./255,\n",
        "      rotation_range=40,\n",
        "      width_shift_range=0.2,\n",
        "      height_shift_range=0.2,\n",
        "      shear_range=0.2,\n",
        "      zoom_range=0.2,\n",
        "      horizontal_flip=True,\n",
        "      fill_mode='nearest')\n",
        "\n",
        "# ¡Notar que la data de validación no debe ser aumentada!\n",
        "test_datagen = ImageDataGenerator(rescale=1./255)\n",
        "\n",
        "train_generator = train_datagen.flow_from_directory(\n",
        "        # Directorio target\n",
        "        train_dir,\n",
        "        # Reescalamos a 150x150\n",
        "        target_size=(150, 150),\n",
        "        batch_size=10,\n",
        "        # Usamos binary_crossentropy y etiquetas binarias\n",
        "        class_mode='categorical')\n",
        "\n",
        "validation_generator = test_datagen.flow_from_directory(\n",
        "        validation_dir,\n",
        "        target_size=(150, 150),\n",
        "        batch_size=10,\n",
        "        class_mode='categorical')\n",
        "\n",
        "model.compile(loss=\"categorical_crossentropy\",\n",
        "              optimizer=optimizers.RMSprop(lr=2e-5),\n",
        "              metrics=['acc'])\n",
        "\n",
        "history = model.fit_generator(\n",
        "      train_generator,\n",
        "      steps_per_epoch=100,\n",
        "      epochs=20,\n",
        "      validation_data=validation_generator,\n",
        "      validation_steps=50)"
      ],
      "execution_count": 43,
      "outputs": [
        {
          "output_type": "stream",
          "text": [
            "Found 160 images belonging to 2 classes.\n",
            "Found 80 images belonging to 2 classes.\n",
            "Epoch 1/20\n",
            "100/100 [==============================] - 13s 135ms/step - loss: 0.3066 - acc: 0.9210 - val_loss: 0.1375 - val_acc: 0.9740\n",
            "Epoch 2/20\n",
            "100/100 [==============================] - 12s 123ms/step - loss: 0.2350 - acc: 0.9320 - val_loss: 0.1005 - val_acc: 0.9760\n",
            "Epoch 3/20\n",
            "100/100 [==============================] - 12s 123ms/step - loss: 0.1820 - acc: 0.9480 - val_loss: 0.0628 - val_acc: 0.9880\n",
            "Epoch 4/20\n",
            "100/100 [==============================] - 12s 122ms/step - loss: 0.1584 - acc: 0.9480 - val_loss: 0.0441 - val_acc: 0.9880\n",
            "Epoch 5/20\n",
            "100/100 [==============================] - 12s 122ms/step - loss: 0.1324 - acc: 0.9710 - val_loss: 0.0534 - val_acc: 0.9880\n",
            "Epoch 6/20\n",
            "100/100 [==============================] - 12s 122ms/step - loss: 0.1129 - acc: 0.9620 - val_loss: 0.0309 - val_acc: 0.9880\n",
            "Epoch 7/20\n",
            "100/100 [==============================] - 12s 122ms/step - loss: 0.1156 - acc: 0.9680 - val_loss: 0.0282 - val_acc: 0.9880\n",
            "Epoch 8/20\n",
            "100/100 [==============================] - 12s 122ms/step - loss: 0.1116 - acc: 0.9640 - val_loss: 0.0244 - val_acc: 1.0000\n",
            "Epoch 9/20\n",
            "100/100 [==============================] - 12s 122ms/step - loss: 0.1007 - acc: 0.9680 - val_loss: 0.0220 - val_acc: 1.0000\n",
            "Epoch 10/20\n",
            "100/100 [==============================] - 12s 122ms/step - loss: 0.0850 - acc: 0.9800 - val_loss: 0.0194 - val_acc: 1.0000\n",
            "Epoch 11/20\n",
            "100/100 [==============================] - 12s 121ms/step - loss: 0.0729 - acc: 0.9780 - val_loss: 0.0145 - val_acc: 1.0000\n",
            "Epoch 12/20\n",
            "100/100 [==============================] - 12s 122ms/step - loss: 0.0721 - acc: 0.9810 - val_loss: 0.0172 - val_acc: 1.0000\n",
            "Epoch 13/20\n",
            "100/100 [==============================] - 12s 122ms/step - loss: 0.0695 - acc: 0.9770 - val_loss: 0.0182 - val_acc: 1.0000\n",
            "Epoch 14/20\n",
            "100/100 [==============================] - 12s 122ms/step - loss: 0.0770 - acc: 0.9740 - val_loss: 0.0187 - val_acc: 0.9900\n",
            "Epoch 15/20\n",
            "100/100 [==============================] - 12s 122ms/step - loss: 0.0766 - acc: 0.9730 - val_loss: 0.0106 - val_acc: 1.0000\n",
            "Epoch 16/20\n",
            "100/100 [==============================] - 12s 121ms/step - loss: 0.0681 - acc: 0.9800 - val_loss: 0.0109 - val_acc: 1.0000\n",
            "Epoch 17/20\n",
            "100/100 [==============================] - 12s 122ms/step - loss: 0.0645 - acc: 0.9810 - val_loss: 0.0124 - val_acc: 1.0000\n",
            "Epoch 18/20\n",
            "100/100 [==============================] - 12s 123ms/step - loss: 0.0548 - acc: 0.9860 - val_loss: 0.0101 - val_acc: 1.0000\n",
            "Epoch 19/20\n",
            "100/100 [==============================] - 12s 123ms/step - loss: 0.0660 - acc: 0.9830 - val_loss: 0.0092 - val_acc: 1.0000\n",
            "Epoch 20/20\n",
            "100/100 [==============================] - 12s 122ms/step - loss: 0.0525 - acc: 0.9840 - val_loss: 0.0093 - val_acc: 1.0000\n"
          ],
          "name": "stdout"
        }
      ]
    },
    {
      "cell_type": "code",
      "metadata": {
        "colab_type": "code",
        "id": "eNdG3x9lVb2o",
        "colab": {}
      },
      "source": [
        "model.save('cats_and_dogs_small_3.h5')"
      ],
      "execution_count": 0,
      "outputs": []
    },
    {
      "cell_type": "markdown",
      "metadata": {
        "colab_type": "text",
        "id": "Ae15gHn6Vb2p"
      },
      "source": [
        "Ploteamos el resultado del entrenamiento:"
      ]
    },
    {
      "cell_type": "code",
      "metadata": {
        "colab_type": "code",
        "id": "PpyfsL1kVb2q",
        "outputId": "5bbbd67b-145b-42df-ed1b-cb889d88e110",
        "colab": {
          "base_uri": "https://localhost:8080/",
          "height": 545
        }
      },
      "source": [
        "import matplotlib.pyplot as plt\n",
        "acc = history.history['acc']\n",
        "val_acc = history.history['val_acc']\n",
        "loss = history.history['loss']\n",
        "val_loss = history.history['val_loss']\n",
        "\n",
        "epochs = range(len(acc))\n",
        "\n",
        "plt.plot(epochs, acc, 'bo', label='Training acc')\n",
        "plt.plot(epochs, val_acc, 'b', label='Validation acc')\n",
        "plt.title('Training and validation accuracy')\n",
        "plt.legend()\n",
        "\n",
        "plt.figure()\n",
        "\n",
        "plt.plot(epochs, loss, 'bo', label='Training loss')\n",
        "plt.plot(epochs, val_loss, 'b', label='Validation loss')\n",
        "plt.title('Training and validation loss')\n",
        "plt.legend()\n",
        "\n",
        "plt.show()"
      ],
      "execution_count": 44,
      "outputs": [
        {
          "output_type": "display_data",
          "data": {
            "image/png": "[encoded data removed]",
            "text/plain": [
              "<Figure size 432x288 with 1 Axes>"
            ]
          },
          "metadata": {
            "tags": []
          }
        },
        {
          "output_type": "display_data",
          "data": {
            "image/png": "[encoded data removed]",
            "text/plain": [
              "<Figure size 432x288 with 1 Axes>"
            ]
          },
          "metadata": {
            "tags": []
          }
        }
      ]
    },
    {
      "cell_type": "markdown",
      "metadata": {
        "colab_type": "text",
        "id": "SIobnjrZVb2t"
      },
      "source": [
        "Vemos que la accuracy en el dataset de validacion llego al 96%."
      ]
    },
    {
      "cell_type": "markdown",
      "metadata": {
        "colab_type": "text",
        "id": "ivD9IsjVVb2u"
      },
      "source": [
        "## Fine-tuning\n"
      ]
    },
    {
      "cell_type": "markdown",
      "metadata": {
        "colab_type": "text",
        "id": "FIpdrnhOVb2v"
      },
      "source": [
        "Estos son los pasos que vamos a seguir:\n",
        "\n",
        "1) Agregar la red personalizada sobre una red base ya entrenada.\n",
        "\n",
        "2) Congelar la red base.\n",
        "\n",
        "3) Entrenar la parte que nueva.\n",
        "\n",
        "4) Descongelar algunas capas en la red base.\n",
        "\n",
        "5) Entrenar conjuntamente estas capas y la parte que nueva.\n",
        "\n",
        "Hemos completado los primeros 3 pasos cuando realizamos feature extraction.\n",
        "Avancemos con el 4º paso: descongelaremos nuestra conv_base y luego congelaremos capas individuales dentro de ella.\n"
      ]
    },
    {
      "cell_type": "markdown",
      "metadata": {
        "colab_type": "text",
        "id": "CxJBErXvVb2y"
      },
      "source": [
        "Vamos a hace fine tuning de las ultimas 3 capas convolucionales. Esto significa que de la capa `block5_conv1` van a tener que estar marcadas como entrenables."
      ]
    },
    {
      "cell_type": "code",
      "metadata": {
        "colab_type": "code",
        "id": "x3AfExn7Emhv",
        "outputId": "a19c1f0d-f83e-4545-f50b-6228ed61c21d",
        "colab": {
          "base_uri": "https://localhost:8080/",
          "height": 340
        }
      },
      "source": [
        "# Antes de modificar el atributo trainable\n",
        "for layer in conv_base.layers:\n",
        "  print(layer.name, layer.trainable)"
      ],
      "execution_count": 28,
      "outputs": [
        {
          "output_type": "stream",
          "text": [
            "input_1 False\n",
            "block1_conv1 True\n",
            "block1_conv2 True\n",
            "block1_pool True\n",
            "block2_conv1 True\n",
            "block2_conv2 True\n",
            "block2_pool True\n",
            "block3_conv1 True\n",
            "block3_conv2 True\n",
            "block3_conv3 True\n",
            "block3_pool True\n",
            "block4_conv1 True\n",
            "block4_conv2 True\n",
            "block4_conv3 True\n",
            "block4_pool True\n",
            "block5_conv1 True\n",
            "block5_conv2 True\n",
            "block5_conv3 True\n",
            "block5_pool True\n"
          ],
          "name": "stdout"
        }
      ]
    },
    {
      "cell_type": "code",
      "metadata": {
        "colab_type": "code",
        "id": "fVrE9-QXVb2y",
        "colab": {}
      },
      "source": [
        "conv_base.trainable = True\n",
        "\n",
        "set_trainable = False\n",
        "for layer in conv_base.layers:\n",
        "    if layer.name == 'block5_conv1':\n",
        "        set_trainable = True\n",
        "    layer.trainable = set_trainable"
      ],
      "execution_count": 0,
      "outputs": []
    },
    {
      "cell_type": "code",
      "metadata": {
        "colab_type": "code",
        "id": "aEnipgBhFGt_",
        "outputId": "93fd036a-f365-40ca-c64f-a78d8d9d0d5c",
        "colab": {
          "base_uri": "https://localhost:8080/",
          "height": 340
        }
      },
      "source": [
        "# Después de modificar el atributo trainable\n",
        "for layer in conv_base.layers:\n",
        "  print(layer.name, layer.trainable)"
      ],
      "execution_count": 30,
      "outputs": [
        {
          "output_type": "stream",
          "text": [
            "input_1 False\n",
            "block1_conv1 False\n",
            "block1_conv2 False\n",
            "block1_pool False\n",
            "block2_conv1 False\n",
            "block2_conv2 False\n",
            "block2_pool False\n",
            "block3_conv1 False\n",
            "block3_conv2 False\n",
            "block3_conv3 False\n",
            "block3_pool False\n",
            "block4_conv1 False\n",
            "block4_conv2 False\n",
            "block4_conv3 False\n",
            "block4_pool False\n",
            "block5_conv1 True\n",
            "block5_conv2 True\n",
            "block5_conv3 True\n",
            "block5_pool True\n"
          ],
          "name": "stdout"
        }
      ]
    },
    {
      "cell_type": "markdown",
      "metadata": {
        "colab_type": "text",
        "id": "wBfLfTr3Vb20"
      },
      "source": [
        "Entrenamos el modelo con un learning rate menos para evitar que se danen las representaciones:"
      ]
    },
    {
      "cell_type": "code",
      "metadata": {
        "colab_type": "code",
        "id": "df_RN0U0Vb20",
        "outputId": "6c92a5b0-722f-48c6-98d1-99ed1a98d0f3",
        "colab": {
          "base_uri": "https://localhost:8080/",
          "height": 3654
        }
      },
      "source": [
        "model.compile(loss='binary_crossentropy',\n",
        "              optimizer=optimizers.RMSprop(lr=1e-5),\n",
        "              metrics=['acc'])\n",
        "\n",
        "history = model.fit_generator(\n",
        "      train_generator,\n",
        "      steps_per_epoch=100,\n",
        "      epochs=100,\n",
        "      validation_data=validation_generator,\n",
        "      validation_steps=50)"
      ],
      "execution_count": 0,
      "outputs": [
        {
          "output_type": "stream",
          "text": [
            "Epoch 1/100\n",
            "100/100 [==============================] - 21s 208ms/step - loss: 0.2970 - acc: 0.8690 - val_loss: 0.2272 - val_acc: 0.9060\n",
            "Epoch 2/100\n",
            "100/100 [==============================] - 18s 176ms/step - loss: 0.2438 - acc: 0.8970 - val_loss: 0.2642 - val_acc: 0.9020\n",
            "Epoch 3/100\n",
            "100/100 [==============================] - 18s 178ms/step - loss: 0.2370 - acc: 0.8985 - val_loss: 0.2184 - val_acc: 0.9070\n",
            "Epoch 4/100\n",
            "100/100 [==============================] - 19s 188ms/step - loss: 0.2300 - acc: 0.9035 - val_loss: 0.2057 - val_acc: 0.9230\n",
            "Epoch 5/100\n",
            "100/100 [==============================] - 18s 176ms/step - loss: 0.2066 - acc: 0.9155 - val_loss: 0.2122 - val_acc: 0.9240\n",
            "Epoch 6/100\n",
            "100/100 [==============================] - 18s 176ms/step - loss: 0.1913 - acc: 0.9125 - val_loss: 0.1911 - val_acc: 0.9220\n",
            "Epoch 7/100\n",
            "100/100 [==============================] - 18s 176ms/step - loss: 0.1667 - acc: 0.9305 - val_loss: 0.2292 - val_acc: 0.9220\n",
            "Epoch 8/100\n",
            "100/100 [==============================] - 19s 189ms/step - loss: 0.1578 - acc: 0.9320 - val_loss: 0.2104 - val_acc: 0.9210\n",
            "Epoch 9/100\n",
            "100/100 [==============================] - 17s 175ms/step - loss: 0.1624 - acc: 0.9380 - val_loss: 0.2616 - val_acc: 0.9070\n",
            "Epoch 10/100\n",
            "100/100 [==============================] - 17s 175ms/step - loss: 0.1362 - acc: 0.9435 - val_loss: 0.1911 - val_acc: 0.9250\n",
            "Epoch 11/100\n",
            "100/100 [==============================] - 17s 174ms/step - loss: 0.1554 - acc: 0.9335 - val_loss: 0.2543 - val_acc: 0.9180\n",
            "Epoch 12/100\n",
            "100/100 [==============================] - 17s 174ms/step - loss: 0.1316 - acc: 0.9450 - val_loss: 0.1947 - val_acc: 0.9270\n",
            "Epoch 13/100\n",
            "100/100 [==============================] - 19s 187ms/step - loss: 0.1252 - acc: 0.9485 - val_loss: 0.1850 - val_acc: 0.9260\n",
            "Epoch 14/100\n",
            "100/100 [==============================] - 17s 174ms/step - loss: 0.1243 - acc: 0.9575 - val_loss: 0.1924 - val_acc: 0.9340\n",
            "Epoch 15/100\n",
            "100/100 [==============================] - 18s 180ms/step - loss: 0.1275 - acc: 0.9505 - val_loss: 0.2200 - val_acc: 0.9260\n",
            "Epoch 16/100\n",
            "100/100 [==============================] - 17s 174ms/step - loss: 0.1178 - acc: 0.9520 - val_loss: 0.2316 - val_acc: 0.9210\n",
            "Epoch 17/100\n",
            "100/100 [==============================] - 19s 187ms/step - loss: 0.1056 - acc: 0.9575 - val_loss: 0.2056 - val_acc: 0.9370\n",
            "Epoch 18/100\n",
            "100/100 [==============================] - 19s 190ms/step - loss: 0.1097 - acc: 0.9605 - val_loss: 0.1997 - val_acc: 0.9380\n",
            "Epoch 19/100\n",
            "100/100 [==============================] - 17s 173ms/step - loss: 0.0974 - acc: 0.9595 - val_loss: 0.1951 - val_acc: 0.9370\n",
            "Epoch 20/100\n",
            "100/100 [==============================] - 18s 175ms/step - loss: 0.1024 - acc: 0.9615 - val_loss: 0.2866 - val_acc: 0.9030\n",
            "Epoch 21/100\n",
            "100/100 [==============================] - 17s 173ms/step - loss: 0.0893 - acc: 0.9615 - val_loss: 0.2026 - val_acc: 0.9310\n",
            "Epoch 22/100\n",
            "100/100 [==============================] - 19s 186ms/step - loss: 0.1020 - acc: 0.9550 - val_loss: 0.2085 - val_acc: 0.9310\n",
            "Epoch 23/100\n",
            "100/100 [==============================] - 17s 174ms/step - loss: 0.0857 - acc: 0.9675 - val_loss: 0.2055 - val_acc: 0.9360\n",
            "Epoch 24/100\n",
            "100/100 [==============================] - 17s 173ms/step - loss: 0.0782 - acc: 0.9650 - val_loss: 0.2082 - val_acc: 0.9260\n",
            "Epoch 25/100\n",
            "100/100 [==============================] - 17s 172ms/step - loss: 0.0687 - acc: 0.9775 - val_loss: 0.2216 - val_acc: 0.9260\n",
            "Epoch 26/100\n",
            "100/100 [==============================] - 18s 185ms/step - loss: 0.0774 - acc: 0.9685 - val_loss: 0.2202 - val_acc: 0.9320\n",
            "Epoch 27/100\n",
            "100/100 [==============================] - 17s 175ms/step - loss: 0.0819 - acc: 0.9665 - val_loss: 0.2077 - val_acc: 0.9240\n",
            "Epoch 28/100\n",
            "100/100 [==============================] - 17s 174ms/step - loss: 0.0868 - acc: 0.9685 - val_loss: 0.2238 - val_acc: 0.9210\n",
            "Epoch 29/100\n",
            "100/100 [==============================] - 17s 173ms/step - loss: 0.0873 - acc: 0.9715 - val_loss: 0.1875 - val_acc: 0.9310\n",
            "Epoch 30/100\n",
            "100/100 [==============================] - 17s 174ms/step - loss: 0.0704 - acc: 0.9750 - val_loss: 0.2272 - val_acc: 0.9340\n",
            "Epoch 31/100\n",
            "100/100 [==============================] - 19s 187ms/step - loss: 0.0542 - acc: 0.9805 - val_loss: 0.2145 - val_acc: 0.9300\n",
            "Epoch 32/100\n",
            "100/100 [==============================] - 18s 181ms/step - loss: 0.0646 - acc: 0.9765 - val_loss: 0.2120 - val_acc: 0.9310\n",
            "Epoch 33/100\n",
            "100/100 [==============================] - 17s 173ms/step - loss: 0.0569 - acc: 0.9795 - val_loss: 0.2233 - val_acc: 0.9230\n",
            "Epoch 34/100\n",
            "100/100 [==============================] - 17s 174ms/step - loss: 0.0655 - acc: 0.9765 - val_loss: 0.2126 - val_acc: 0.9270\n",
            "Epoch 35/100\n",
            "100/100 [==============================] - 18s 184ms/step - loss: 0.0627 - acc: 0.9795 - val_loss: 0.2490 - val_acc: 0.9260\n",
            "Epoch 36/100\n",
            "100/100 [==============================] - 18s 184ms/step - loss: 0.0664 - acc: 0.9795 - val_loss: 0.2334 - val_acc: 0.9280\n",
            "Epoch 37/100\n",
            "100/100 [==============================] - 17s 173ms/step - loss: 0.0577 - acc: 0.9790 - val_loss: 0.1959 - val_acc: 0.9340\n",
            "Epoch 38/100\n",
            "100/100 [==============================] - 17s 173ms/step - loss: 0.0515 - acc: 0.9815 - val_loss: 0.2571 - val_acc: 0.9290\n",
            "Epoch 39/100\n",
            "100/100 [==============================] - 17s 173ms/step - loss: 0.0593 - acc: 0.9815 - val_loss: 0.2249 - val_acc: 0.9280\n",
            "Epoch 40/100\n",
            "100/100 [==============================] - 19s 187ms/step - loss: 0.0497 - acc: 0.9835 - val_loss: 0.2008 - val_acc: 0.9320\n",
            "Epoch 41/100\n",
            "100/100 [==============================] - 17s 174ms/step - loss: 0.0567 - acc: 0.9810 - val_loss: 0.2452 - val_acc: 0.9310\n",
            "Epoch 42/100\n",
            "100/100 [==============================] - 17s 173ms/step - loss: 0.0576 - acc: 0.9755 - val_loss: 0.2181 - val_acc: 0.9290\n",
            "Epoch 43/100\n",
            "100/100 [==============================] - 17s 173ms/step - loss: 0.0502 - acc: 0.9810 - val_loss: 0.2418 - val_acc: 0.9320\n",
            "Epoch 44/100\n",
            "100/100 [==============================] - 18s 182ms/step - loss: 0.0474 - acc: 0.9820 - val_loss: 0.2288 - val_acc: 0.9340\n",
            "Epoch 45/100\n",
            "100/100 [==============================] - 18s 179ms/step - loss: 0.0440 - acc: 0.9835 - val_loss: 0.2706 - val_acc: 0.9290\n",
            "Epoch 46/100\n",
            "100/100 [==============================] - 17s 174ms/step - loss: 0.0364 - acc: 0.9870 - val_loss: 0.2869 - val_acc: 0.9270\n",
            "Epoch 47/100\n",
            "100/100 [==============================] - 17s 173ms/step - loss: 0.0463 - acc: 0.9850 - val_loss: 0.1935 - val_acc: 0.9380\n",
            "Epoch 48/100\n",
            "100/100 [==============================] - 17s 175ms/step - loss: 0.0331 - acc: 0.9905 - val_loss: 0.2308 - val_acc: 0.9340\n",
            "Epoch 49/100\n",
            "100/100 [==============================] - 19s 192ms/step - loss: 0.0511 - acc: 0.9780 - val_loss: 0.2766 - val_acc: 0.9260\n",
            "Epoch 50/100\n",
            "100/100 [==============================] - 17s 173ms/step - loss: 0.0377 - acc: 0.9845 - val_loss: 0.2325 - val_acc: 0.9370\n",
            "Epoch 51/100\n",
            "100/100 [==============================] - 17s 174ms/step - loss: 0.0512 - acc: 0.9800 - val_loss: 0.2621 - val_acc: 0.9230\n",
            "Epoch 52/100\n",
            "100/100 [==============================] - 17s 174ms/step - loss: 0.0431 - acc: 0.9860 - val_loss: 0.2985 - val_acc: 0.9200\n",
            "Epoch 53/100\n",
            "100/100 [==============================] - 19s 192ms/step - loss: 0.0384 - acc: 0.9860 - val_loss: 0.2531 - val_acc: 0.9290\n",
            "Epoch 54/100\n",
            "100/100 [==============================] - 18s 181ms/step - loss: 0.0326 - acc: 0.9860 - val_loss: 0.3230 - val_acc: 0.9200\n",
            "Epoch 55/100\n",
            "100/100 [==============================] - 17s 174ms/step - loss: 0.0408 - acc: 0.9850 - val_loss: 0.2569 - val_acc: 0.9350\n",
            "Epoch 56/100\n",
            "100/100 [==============================] - 17s 173ms/step - loss: 0.0308 - acc: 0.9875 - val_loss: 0.2793 - val_acc: 0.9350\n",
            "Epoch 57/100\n",
            "100/100 [==============================] - 17s 174ms/step - loss: 0.0315 - acc: 0.9875 - val_loss: 0.2199 - val_acc: 0.9290\n",
            "Epoch 58/100\n",
            "100/100 [==============================] - 19s 186ms/step - loss: 0.0327 - acc: 0.9885 - val_loss: 0.2137 - val_acc: 0.9440\n",
            "Epoch 59/100\n",
            "100/100 [==============================] - 17s 174ms/step - loss: 0.0404 - acc: 0.9870 - val_loss: 0.2341 - val_acc: 0.9320\n",
            "Epoch 60/100\n",
            "100/100 [==============================] - 17s 174ms/step - loss: 0.0362 - acc: 0.9865 - val_loss: 0.2074 - val_acc: 0.9370\n",
            "Epoch 61/100\n",
            "100/100 [==============================] - 17s 175ms/step - loss: 0.0361 - acc: 0.9890 - val_loss: 0.2414 - val_acc: 0.9350\n",
            "Epoch 62/100\n",
            "100/100 [==============================] - 18s 178ms/step - loss: 0.0378 - acc: 0.9875 - val_loss: 0.2760 - val_acc: 0.9310\n",
            "Epoch 63/100\n",
            "100/100 [==============================] - 18s 182ms/step - loss: 0.0344 - acc: 0.9885 - val_loss: 0.2855 - val_acc: 0.9300\n",
            "Epoch 64/100\n",
            "100/100 [==============================] - 18s 175ms/step - loss: 0.0293 - acc: 0.9905 - val_loss: 0.2463 - val_acc: 0.9390\n",
            "Epoch 65/100\n",
            "100/100 [==============================] - 17s 174ms/step - loss: 0.0304 - acc: 0.9890 - val_loss: 0.2425 - val_acc: 0.9350\n",
            "Epoch 66/100\n",
            "100/100 [==============================] - 18s 177ms/step - loss: 0.0279 - acc: 0.9895 - val_loss: 0.2753 - val_acc: 0.9320\n",
            "Epoch 67/100\n",
            "100/100 [==============================] - 19s 192ms/step - loss: 0.0305 - acc: 0.9895 - val_loss: 0.1941 - val_acc: 0.9370\n",
            "Epoch 68/100\n",
            "100/100 [==============================] - 17s 174ms/step - loss: 0.0291 - acc: 0.9885 - val_loss: 0.2340 - val_acc: 0.9440\n",
            "Epoch 69/100\n",
            "100/100 [==============================] - 17s 174ms/step - loss: 0.0388 - acc: 0.9860 - val_loss: 0.2745 - val_acc: 0.9320\n",
            "Epoch 70/100\n",
            "100/100 [==============================] - 18s 179ms/step - loss: 0.0229 - acc: 0.9925 - val_loss: 0.3233 - val_acc: 0.9260\n",
            "Epoch 71/100\n",
            "100/100 [==============================] - 19s 190ms/step - loss: 0.0272 - acc: 0.9890 - val_loss: 0.4272 - val_acc: 0.9150\n",
            "Epoch 72/100\n",
            "100/100 [==============================] - 18s 180ms/step - loss: 0.0290 - acc: 0.9885 - val_loss: 0.2872 - val_acc: 0.9340\n",
            "Epoch 73/100\n",
            "100/100 [==============================] - 18s 175ms/step - loss: 0.0231 - acc: 0.9910 - val_loss: 0.2566 - val_acc: 0.9440\n",
            "Epoch 74/100\n",
            "100/100 [==============================] - 17s 174ms/step - loss: 0.0299 - acc: 0.9910 - val_loss: 0.3808 - val_acc: 0.9230\n",
            "Epoch 75/100\n",
            "100/100 [==============================] - 17s 173ms/step - loss: 0.0244 - acc: 0.9935 - val_loss: 0.2480 - val_acc: 0.9410\n",
            "Epoch 76/100\n",
            "100/100 [==============================] - 19s 185ms/step - loss: 0.0355 - acc: 0.9915 - val_loss: 0.3235 - val_acc: 0.9300\n",
            "Epoch 77/100\n",
            "100/100 [==============================] - 17s 173ms/step - loss: 0.0224 - acc: 0.9885 - val_loss: 0.3102 - val_acc: 0.9250\n",
            "Epoch 78/100\n",
            "100/100 [==============================] - 17s 174ms/step - loss: 0.0257 - acc: 0.9880 - val_loss: 0.2873 - val_acc: 0.9380\n",
            "Epoch 79/100\n",
            "100/100 [==============================] - 17s 173ms/step - loss: 0.0252 - acc: 0.9900 - val_loss: 0.2377 - val_acc: 0.9460\n",
            "Epoch 80/100\n",
            "100/100 [==============================] - 18s 175ms/step - loss: 0.0247 - acc: 0.9895 - val_loss: 0.2513 - val_acc: 0.9390\n",
            "Epoch 81/100\n",
            "100/100 [==============================] - 18s 184ms/step - loss: 0.0283 - acc: 0.9915 - val_loss: 0.2197 - val_acc: 0.9430\n",
            "Epoch 82/100\n",
            "100/100 [==============================] - 17s 173ms/step - loss: 0.0218 - acc: 0.9915 - val_loss: 0.2474 - val_acc: 0.9410\n",
            "Epoch 83/100\n",
            "100/100 [==============================] - 17s 174ms/step - loss: 0.0139 - acc: 0.9940 - val_loss: 0.2733 - val_acc: 0.9410\n",
            "Epoch 84/100\n",
            "100/100 [==============================] - 18s 180ms/step - loss: 0.0222 - acc: 0.9940 - val_loss: 0.2462 - val_acc: 0.9370\n",
            "Epoch 85/100\n",
            "100/100 [==============================] - 19s 189ms/step - loss: 0.0171 - acc: 0.9945 - val_loss: 0.2515 - val_acc: 0.9420\n",
            "Epoch 86/100\n",
            "100/100 [==============================] - 17s 173ms/step - loss: 0.0268 - acc: 0.9905 - val_loss: 0.2415 - val_acc: 0.9440\n",
            "Epoch 87/100\n",
            "100/100 [==============================] - 18s 175ms/step - loss: 0.0238 - acc: 0.9905 - val_loss: 0.2536 - val_acc: 0.9400\n",
            "Epoch 88/100\n",
            "100/100 [==============================] - 19s 188ms/step - loss: 0.0158 - acc: 0.9925 - val_loss: 0.4343 - val_acc: 0.9180\n",
            "Epoch 89/100\n",
            "100/100 [==============================] - 18s 176ms/step - loss: 0.0167 - acc: 0.9945 - val_loss: 0.2556 - val_acc: 0.9400\n",
            "Epoch 90/100\n",
            "100/100 [==============================] - 18s 184ms/step - loss: 0.0198 - acc: 0.9940 - val_loss: 0.3704 - val_acc: 0.9370\n",
            "Epoch 91/100\n",
            "100/100 [==============================] - 17s 174ms/step - loss: 0.0271 - acc: 0.9925 - val_loss: 0.2309 - val_acc: 0.9470\n",
            "Epoch 92/100\n",
            "100/100 [==============================] - 17s 174ms/step - loss: 0.0201 - acc: 0.9920 - val_loss: 0.3636 - val_acc: 0.9340\n",
            "Epoch 93/100\n",
            "100/100 [==============================] - 17s 174ms/step - loss: 0.0171 - acc: 0.9935 - val_loss: 0.2900 - val_acc: 0.9340\n",
            "Epoch 94/100\n",
            "100/100 [==============================] - 19s 188ms/step - loss: 0.0227 - acc: 0.9925 - val_loss: 0.2299 - val_acc: 0.9460\n",
            "Epoch 95/100\n",
            "100/100 [==============================] - 17s 174ms/step - loss: 0.0160 - acc: 0.9940 - val_loss: 0.3339 - val_acc: 0.9340\n",
            "Epoch 96/100\n",
            "100/100 [==============================] - 17s 173ms/step - loss: 0.0215 - acc: 0.9935 - val_loss: 0.2653 - val_acc: 0.9420\n",
            "Epoch 97/100\n",
            "100/100 [==============================] - 17s 173ms/step - loss: 0.0168 - acc: 0.9940 - val_loss: 0.2872 - val_acc: 0.9410\n",
            "Epoch 98/100\n",
            "100/100 [==============================] - 17s 174ms/step - loss: 0.0231 - acc: 0.9940 - val_loss: 0.3206 - val_acc: 0.9340\n",
            "Epoch 99/100\n",
            "100/100 [==============================] - 19s 186ms/step - loss: 0.0206 - acc: 0.9915 - val_loss: 0.2772 - val_acc: 0.9390\n",
            "Epoch 100/100\n",
            "100/100 [==============================] - 17s 174ms/step - loss: 0.0147 - acc: 0.9950 - val_loss: 0.2795 - val_acc: 0.9370\n"
          ],
          "name": "stdout"
        }
      ]
    },
    {
      "cell_type": "code",
      "metadata": {
        "colab_type": "code",
        "id": "I3skCwpGVb22",
        "colab": {}
      },
      "source": [
        "model.save('cats_and_dogs_small_4.h5')"
      ],
      "execution_count": 0,
      "outputs": []
    },
    {
      "cell_type": "markdown",
      "metadata": {
        "colab_type": "text",
        "id": "1VTrYIk8Vb24"
      },
      "source": [
        "Volvemos a plotear:"
      ]
    },
    {
      "cell_type": "code",
      "metadata": {
        "colab_type": "code",
        "id": "7yM4ZDp6Vb24",
        "outputId": "59b1ca49-93fb-4e3f-a1ad-ef6461ee9f61",
        "colab": {
          "base_uri": "https://localhost:8080/",
          "height": 545
        }
      },
      "source": [
        "acc = history.history['acc']\n",
        "val_acc = history.history['val_acc']\n",
        "loss = history.history['loss']\n",
        "val_loss = history.history['val_loss']\n",
        "\n",
        "epochs = range(len(acc))\n",
        "\n",
        "plt.plot(epochs, acc, 'bo', label='Training acc')\n",
        "plt.plot(epochs, val_acc, 'b', label='Validation acc')\n",
        "plt.title('Training and validation accuracy')\n",
        "plt.legend()\n",
        "\n",
        "plt.figure()\n",
        "\n",
        "plt.plot(epochs, loss, 'bo', label='Training loss')\n",
        "plt.plot(epochs, val_loss, 'b', label='Validation loss')\n",
        "plt.title('Training and validation loss')\n",
        "plt.legend()\n",
        "\n",
        "plt.show()"
      ],
      "execution_count": 0,
      "outputs": [
        {
          "output_type": "display_data",
          "data": {
            "image/png": "[encoded data removed]",
            "text/plain": [
              "<Figure size 432x288 with 1 Axes>"
            ]
          },
          "metadata": {
            "tags": []
          }
        },
        {
          "output_type": "display_data",
          "data": {
            "image/png": "[encoded data removed]",
            "text/plain": [
              "<Figure size 432x288 with 1 Axes>"
            ]
          },
          "metadata": {
            "tags": []
          }
        }
      ]
    },
    {
      "cell_type": "markdown",
      "metadata": {
        "colab_type": "text",
        "id": "j1irw_jgVb26"
      },
      "source": [
        "Para que las curvas sean mas legibles, vamos a aplicar un suavizado exponencial:"
      ]
    },
    {
      "cell_type": "code",
      "metadata": {
        "colab_type": "code",
        "id": "EJ6hW6zJVb27",
        "outputId": "089ec2dc-fdec-4292-c361-64075750d6cf",
        "colab": {
          "base_uri": "https://localhost:8080/",
          "height": 545
        }
      },
      "source": [
        "def smooth_curve(points, factor=0.8):\n",
        "  smoothed_points = []\n",
        "  for point in points:\n",
        "    if smoothed_points:\n",
        "      previous = smoothed_points[-1]\n",
        "      smoothed_points.append(previous * factor + point * (1 - factor))\n",
        "    else:\n",
        "      smoothed_points.append(point)\n",
        "  return smoothed_points\n",
        "\n",
        "plt.plot(epochs,\n",
        "         smooth_curve(acc), 'bo', label='Smoothed training acc')\n",
        "plt.plot(epochs,\n",
        "         smooth_curve(val_acc), 'b', label='Smoothed validation acc')\n",
        "plt.title('Training and validation accuracy')\n",
        "plt.legend()\n",
        "\n",
        "plt.figure()\n",
        "\n",
        "plt.plot(epochs,\n",
        "         smooth_curve(loss), 'bo', label='Smoothed training loss')\n",
        "plt.plot(epochs,\n",
        "         smooth_curve(val_loss), 'b', label='Smoothed validation loss')\n",
        "plt.title('Training and validation loss')\n",
        "plt.legend()\n",
        "\n",
        "plt.show()"
      ],
      "execution_count": 0,
      "outputs": [
        {
          "output_type": "display_data",
          "data": {
            "image/png": "[encoded data removed]",
            "text/plain": [
              "<Figure size 432x288 with 1 Axes>"
            ]
          },
          "metadata": {
            "tags": []
          }
        },
        {
          "output_type": "display_data",
          "data": {
            "image/png": "[encoded data removed]",
            "text/plain": [
              "<Figure size 432x288 with 1 Axes>"
            ]
          },
          "metadata": {
            "tags": []
          }
        }
      ]
    },
    {
      "cell_type": "markdown",
      "metadata": {
        "colab_type": "text",
        "id": "_wq2xXUdVb2-"
      },
      "source": [
        "Ahora podemos finalmente evaluar este modelo en los datos de prueba:"
      ]
    },
    {
      "cell_type": "code",
      "metadata": {
        "colab_type": "code",
        "id": "rB787jNxVb2-",
        "outputId": "fa90924a-80b1-4bc8-95f1-484ddcc67971",
        "colab": {
          "base_uri": "https://localhost:8080/",
          "height": 51
        }
      },
      "source": [
        "test_generator = test_datagen.flow_from_directory(\n",
        "        test_dir,\n",
        "        target_size=(150, 150),\n",
        "        batch_size=20,\n",
        "        class_mode='binary')\n",
        "\n",
        "test_loss, test_acc = model.evaluate_generator(test_generator, steps=50)\n",
        "print('test acc:', test_acc)"
      ],
      "execution_count": 45,
      "outputs": [
        {
          "output_type": "stream",
          "text": [
            "Found 80 images belonging to 2 classes.\n",
            "test acc: 0.9129999923706055\n"
          ],
          "name": "stdout"
        }
      ]
    },
    {
      "cell_type": "code",
      "metadata": {
        "id": "NHDCeGlWsWCT",
        "colab_type": "code",
        "colab": {},
        "outputId": "c9c0c538-ba7b-4601-dfdc-d775088988dc"
      },
      "source": [
        "dir = train_dir + '/cats/'\n",
        "dir"
      ],
      "execution_count": 0,
      "outputs": [
        {
          "output_type": "execute_result",
          "data": {
            "text/plain": [
              "'/Users/alejandrotaboada/Desktop/Pruebas Python/train/cats/'"
            ]
          },
          "metadata": {
            "tags": []
          },
          "execution_count": 43
        }
      ]
    },
    {
      "cell_type": "code",
      "metadata": {
        "colab_type": "code",
        "id": "mkvgStjHK9DN",
        "colab": {},
        "outputId": "472253dd-84e7-4c3c-b098-ac7806e31ca7"
      },
      "source": [
        "len([name for name in os.listdir(dir)])"
      ],
      "execution_count": 0,
      "outputs": [
        {
          "output_type": "execute_result",
          "data": {
            "text/plain": [
              "80"
            ]
          },
          "metadata": {
            "tags": []
          },
          "execution_count": 46
        }
      ]
    },
    {
      "cell_type": "code",
      "metadata": {
        "id": "flqVEIi3sWCd",
        "colab_type": "code",
        "colab": {}
      },
      "source": [
        ""
      ],
      "execution_count": 0,
      "outputs": []
    }
  ]
}